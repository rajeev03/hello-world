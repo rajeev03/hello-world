{
  "nbformat": 4,
  "nbformat_minor": 0,
  "metadata": {
    "colab": {
      "name": "SDM Assignment2.ipynb",
      "version": "0.3.2",
      "provenance": [],
      "collapsed_sections": [],
      "include_colab_link": true
    },
    "kernelspec": {
      "name": "python3",
      "display_name": "Python 3"
    }
  },
  "cells": [
    {
      "cell_type": "markdown",
      "metadata": {
        "id": "view-in-github",
        "colab_type": "text"
      },
      "source": [
        "<a href=\"https://colab.research.google.com/github/rajeev03/hello-world/blob/master/SDM_Assignment2.ipynb\" target=\"_parent\"><img src=\"https://colab.research.google.com/assets/colab-badge.svg\" alt=\"Open In Colab\"/></a>"
      ]
    },
    {
      "cell_type": "markdown",
      "metadata": {
        "id": "aaKBdCHBtv09",
        "colab_type": "text"
      },
      "source": [
        "# Scalable Data Mining\n",
        "## Assignment # 2\n",
        "\n",
        "\n",
        "## Problem Statement\n",
        "\n",
        "You are given an undirected social network graph as **network.txt**.\n",
        "\n",
        "In this network, if ***alice*** and ***bob*** are friends, then the network graph has an entry like this: ***alice, bob***.\n",
        "\n",
        "Your task is to find out those pairs of people who are not friends but have at least one common mutual friend. For example, if ***alice*** and ***bob*** are friends and ***bob*** and ***charlie*** are friends, but ***alice*** is not a friend of ***charlie***, your output should be ***alice, charlie***.\n",
        "\n",
        "The network graph has integer IDs for each person instead of their names.\n",
        "\n",
        "*Hint: You may want to verify your code on this toy network:*\n",
        "\n",
        "    `[(alice, bob), (bob, charlie), (bob, doris), (doris, alice)]`\n",
        "\n",
        "## File Upload\n",
        "\n",
        "Click on the tiny **\">\"** button towards the top left of this Google colab notebook.\n",
        "\n",
        "This will open up the left sidebar. In the sidebar, you can see three tabs: **\"Table of contents\"**, **\"Code snippets\"**, and **\"Files\"**. Click on \"**Files\"**.\n",
        "\n",
        "You can see an **\"Upload\"** button. Click on it to upload the input file.\n",
        "\n",
        "After the file is uploaded, it will be listed in the left sidebar. Right-click on the filename and select **\"Copy path\"** to get the path. Use this path for the assignment.\n",
        "\n",
        "(This has already been demonstrated during the 2nd demo session. You may refer to the video.)\n",
        "\n",
        "## Instructions\n",
        "\n",
        "This notebook has the required setup code in the first cell. You may use as many cells of code as you need. Your final output RDD must be named **result**.\n",
        "\n",
        "To submit your assignment, click on **\"File\"** in the main menu, then select **\"Download .ipynb\"** to download this notebook as a Jupyter/IPython notebook on your computer.\n",
        "\n",
        "Rename this downloaded notebook as `ai<YourRollNumber>.ipynb`. For example, if your roll number is **AI007**, your notebook should be  called **ai007.ipynb**.\n",
        "\n",
        "Submit this renamed notebook using the assignment submission link."
      ]
    },
    {
      "cell_type": "code",
      "metadata": {
        "id": "ndZBa5xStwJu",
        "colab_type": "code",
        "colab": {}
      },
      "source": [
        "# Do not edit this cell\n",
        "\n",
        "import os\n",
        "java8_location= '/usr/lib/jvm/java-8-openjdk-amd64'\n",
        "os.environ['JAVA_HOME'] = java8_location\n",
        "\n",
        "!pip install pyspark\n",
        "\n",
        "from pyspark import SparkConf, SparkContext\n",
        "conf = SparkConf().setMaster(\"local\").setAppName(\"My App\")\n",
        "sc = SparkContext(conf = conf)"
      ],
      "execution_count": 0,
      "outputs": []
    },
    {
      "cell_type": "code",
      "metadata": {
        "id": "cn6stbKitxrX",
        "colab_type": "code",
        "colab": {}
      },
      "source": [
        "# Begin your code from this cell. Use as many cells as you need."
      ],
      "execution_count": 0,
      "outputs": []
    },
    {
      "cell_type": "code",
      "metadata": {
        "id": "2XKkQ2motyB6",
        "colab_type": "code",
        "colab": {}
      },
      "source": [
        "# Your final result should be stored in an RDD called \"result\".\n",
        "\n",
        "result = "
      ],
      "execution_count": 0,
      "outputs": []
    }
  ]
}